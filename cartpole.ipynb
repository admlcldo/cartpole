{
 "cells": [
  {
   "cell_type": "code",
   "execution_count": null,
   "metadata": {
    "collapsed": true
   },
   "outputs": [],
   "source": [
    "%matplotlib inline\n",
    "import matplotlib.pyplot as plt\n",
    "import gym\n",
    "import numpy as np\n",
    "import tensorflow as tf"
   ]
  },
  {
   "cell_type": "code",
   "execution_count": null,
   "metadata": {
    "collapsed": true
   },
   "outputs": [],
   "source": [
    "first_layer = 8 \n",
    "epsilon = 0.01 # stddev for initial randomized weights\n",
    "learning_rate = 0.5\n",
    "threshold = 50 # initial threshold for a good episode"
   ]
  },
  {
   "cell_type": "code",
   "execution_count": null,
   "metadata": {
    "collapsed": true
   },
   "outputs": [],
   "source": [
    "# network\n",
    "# input, fake labels, advantage\n",
    "x = tf.placeholder(tf.float32, [None, 4])\n",
    "y_ = tf.placeholder(tf.float32, [None, 2]) # fake labels, up or down action\n",
    "a_ = tf.placeholder(tf.float32, [None]) # advantage\n",
    "\n",
    "# first layer\n",
    "w1 = tf.Variable(tf.random_normal([4, first_layer], stddev=epsilon))\n",
    "b1 = tf.Variable(tf.zeros([first_layer]))\n",
    "z1 = tf.matmul(x, w1) + b1\n",
    "a1 = tf.nn.tanh(z1)\n",
    "\n",
    "# output layer\n",
    "w2 = tf.Variable(tf.random_normal([first_layer, 2], stddev=epsilon))\n",
    "b2 = tf.Variable(tf.zeros([2]))\n",
    "z2 = tf.matmul(a1, w2) + b2\n",
    "y = tf.nn.softmax(z2)\n",
    "\n",
    "cost = tf.reduce_mean(a_ * tf.nn.softmax_cross_entropy_with_logits(labels=y_, logits=z2))\n",
    "train = tf.train.GradientDescentOptimizer(learning_rate).minimize(cost)"
   ]
  },
  {
   "cell_type": "code",
   "execution_count": null,
   "metadata": {
    "collapsed": true
   },
   "outputs": [],
   "source": [
    "def get_action(observation):\n",
    "    prob = sess.run(y, feed_dict={x: np.reshape(observation, [1,4])})[0]\n",
    "    action = np.random.choice((0,1), p=prob)\n",
    "    return action"
   ]
  },
  {
   "cell_type": "code",
   "execution_count": null,
   "metadata": {
    "collapsed": true
   },
   "outputs": [],
   "source": [
    "def play_episode():\n",
    "    observation = env.reset()\n",
    "    ep_obs = [] # list of observations\n",
    "    ep_acts = [] # list of actions\n",
    "    while True:\n",
    "        #if render: env.render()\n",
    "        # get action\n",
    "        action = get_action(observation)\n",
    "        \n",
    "        # append observations and actions\n",
    "        ep_obs.append(observation)        \n",
    "        ep_acts.append(action)\n",
    "        \n",
    "        # perform action\n",
    "        observation, reward, done, info = env.step(action)\n",
    "        \n",
    "        if done:\n",
    "            return ep_obs, ep_acts"
   ]
  },
  {
   "cell_type": "code",
   "execution_count": null,
   "metadata": {
    "collapsed": true
   },
   "outputs": [],
   "source": [
    "def play_batch(n_episodes):\n",
    "    batch_obs = [] # list of lists of observations\n",
    "    batch_acts = [] # list of lists of actions\n",
    "    for i in range(n_episodes):\n",
    "        ep_obs, ep_acts = play_episode()\n",
    "        batch_obs.append(ep_obs)\n",
    "        batch_acts.append(ep_acts)\n",
    "    return batch_obs, batch_acts"
   ]
  },
  {
   "cell_type": "code",
   "execution_count": null,
   "metadata": {
    "collapsed": true
   },
   "outputs": [],
   "source": [
    "# initialize tensor flow\n",
    "sess = tf.Session()\n",
    "sess.run(tf.global_variables_initializer())"
   ]
  },
  {
   "cell_type": "code",
   "execution_count": null,
   "metadata": {
    "collapsed": true
   },
   "outputs": [],
   "source": [
    "# pre-training monitoring\n",
    "#env = gym.make('CartPole-v0')\n",
    "#env = gym.wrappers.Monitor(env, './pre-training', force=True,)\n",
    "# force=True clears previous monitor files\n",
    "#print('pre-training')\n",
    "#for i in range(10):\n",
    "#    a, b = play_episode()\n",
    "#    print(len(b))"
   ]
  },
  {
   "cell_type": "code",
   "execution_count": null,
   "metadata": {
    "collapsed": true
   },
   "outputs": [],
   "source": [
    "env = gym.make('CartPole-v0')\n",
    "env = gym.wrappers.Monitor(env, './training', force=True,)\n",
    "# force=True clears previous monitor files\n",
    "# training\n",
    "averages = []\n",
    "batch_size = 20\n",
    "iterations = 500\n",
    "threshold = 50\n",
    "render = False\n",
    "print('training')\n",
    "for i in range(iterations):\n",
    "    batch_obs, batch_acts = play_batch(batch_size)\n",
    "    xs = [] # list of n_moves x 4 arrays\n",
    "    y_s = [] # list of n_moves x 2 array\n",
    "    a_s = [] # list of n_moves sized array\n",
    "\n",
    "    # get average length of episode\n",
    "    average = 0\n",
    "    for a in batch_acts:\n",
    "        average += len(a)\n",
    "    average /= batch_size\n",
    "    \n",
    "    # change threshold to increase standards\n",
    "    if average > threshold:\n",
    "        threshold = average\n",
    "\n",
    "    # number of good episodes\n",
    "    #good_eps = 0\n",
    "\n",
    "    for ep_obs, ep_acts in zip(batch_obs, batch_acts):\n",
    "        n_moves = len(ep_acts)\n",
    "\n",
    "        if n_moves > threshold:\n",
    "            #good_eps += 1\n",
    "\n",
    "            # observations\n",
    "            xs.append(np.stack(ep_obs))\n",
    "\n",
    "            # encode the move we made\n",
    "            move = np.zeros([n_moves, 2])\n",
    "            move[range(n_moves), ep_acts] = 1 # ep_act is either 0 or 1, we make this index 1\n",
    "            y_s.append(move)\n",
    "\n",
    "            # advantages\n",
    "            adv = np.ones([n_moves])\n",
    "            a_s.append(adv)\n",
    "    \n",
    "    averages.append(average)\n",
    "    if len(a_s) > 0:\n",
    "        train_x = np.concatenate(xs)\n",
    "        train_y_ = np.concatenate(y_s)\n",
    "        train_a_ = np.concatenate(a_s)\n",
    "        sess.run(train, feed_dict={x: train_x, y_: train_y_, a_: train_a_})\n",
    "        print(i, average)\n",
    "        #print('Updated with',good_eps, 'episodes')\n",
    "    else:\n",
    "        None\n",
    "        # print('All episodes in this batch sucked!!!')"
   ]
  },
  {
   "cell_type": "code",
   "execution_count": null,
   "metadata": {
    "collapsed": true
   },
   "outputs": [],
   "source": [
    "plt.plot(averages)\n",
    "plt.savefig('./averages.png')"
   ]
  },
  {
   "cell_type": "code",
   "execution_count": null,
   "metadata": {
    "collapsed": true
   },
   "outputs": [],
   "source": [
    "# post-training monitoring\n",
    "#env = gym.make('CartPole-v0')\n",
    "#env = gym.wrappers.Monitor(env, './post-training', force=True)\n",
    "# force=True clears previous monitor files\n",
    "#print('post-training')\n",
    "#for i in range(10):\n",
    "#    a, b = play_episode()\n",
    "#    print(len(b))"
   ]
  },
  {
   "cell_type": "code",
   "execution_count": null,
   "metadata": {
    "collapsed": true
   },
   "outputs": [],
   "source": []
  }
 ],
 "metadata": {
  "kernelspec": {
   "display_name": "Python 3",
   "language": "python",
   "name": "python3"
  },
  "language_info": {
   "codemirror_mode": {
    "name": "ipython",
    "version": 3
   },
   "file_extension": ".py",
   "mimetype": "text/x-python",
   "name": "python",
   "nbconvert_exporter": "python",
   "pygments_lexer": "ipython3",
   "version": "3.5.3"
  }
 },
 "nbformat": 4,
 "nbformat_minor": 2
}
